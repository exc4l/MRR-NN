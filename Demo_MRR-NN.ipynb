{
 "cells": [
  {
   "cell_type": "markdown",
   "metadata": {},
   "source": [
    "# Demo MRR-NN\n",
    "I will use the MNIST Dataset to demonstrate the usage of Lorentzian.py. While the MNIST task isn't the most suitable case for the application of a microring-resonator neural network, it is a well known task, benchmark and intuitive "
   ]
  },
  {
   "cell_type": "code",
   "execution_count": 1,
   "metadata": {
    "execution": {
     "iopub.execute_input": "2021-03-16T12:27:04.848467Z",
     "iopub.status.busy": "2021-03-16T12:27:04.847467Z",
     "iopub.status.idle": "2021-03-16T12:27:08.752351Z",
     "shell.execute_reply": "2021-03-16T12:27:08.752351Z",
     "shell.execute_reply.started": "2021-03-16T12:27:04.848467Z"
    }
   },
   "outputs": [],
   "source": [
    "import tensorflow as tf\n",
    "import lorentzian as lz\n",
    "import numpy as np\n",
    "from matplotlib import pyplot as plt"
   ]
  },
  {
   "cell_type": "code",
   "execution_count": 2,
   "metadata": {
    "execution": {
     "iopub.execute_input": "2021-03-16T12:27:08.754357Z",
     "iopub.status.busy": "2021-03-16T12:27:08.753365Z",
     "iopub.status.idle": "2021-03-16T12:27:09.303411Z",
     "shell.execute_reply": "2021-03-16T12:27:09.303411Z",
     "shell.execute_reply.started": "2021-03-16T12:27:08.754357Z"
    }
   },
   "outputs": [],
   "source": [
    "# load mnist data and norm it\n",
    "\n",
    "mnist = tf.keras.datasets.mnist\n",
    "\n",
    "(x_train, y_train), (x_test, y_test) = mnist.load_data()\n",
    "x_train, x_test = x_train / 255.0, x_test / 255.0\n",
    "mnist_input_shape = (28, 28)"
   ]
  },
  {
   "cell_type": "code",
   "execution_count": 3,
   "metadata": {
    "execution": {
     "iopub.execute_input": "2021-03-16T12:27:09.304405Z",
     "iopub.status.busy": "2021-03-16T12:27:09.304405Z",
     "iopub.status.idle": "2021-03-16T12:27:10.512723Z",
     "shell.execute_reply": "2021-03-16T12:27:10.512723Z",
     "shell.execute_reply.started": "2021-03-16T12:27:09.304405Z"
    }
   },
   "outputs": [
    {
     "name": "stdout",
     "output_type": "stream",
     "text": [
      "Model: \"sequential\"\n",
      "_________________________________________________________________\n",
      "Layer (type)                 Output Shape              Param #   \n",
      "=================================================================\n",
      "flatten (Flatten)            (None, 784)               0         \n",
      "_________________________________________________________________\n",
      "mm_relu (MMRelu)             (None, 10)                7850      \n",
      "_________________________________________________________________\n",
      "mm_relu_1 (MMRelu)           (None, 10)                110       \n",
      "=================================================================\n",
      "Total params: 7,960\n",
      "Trainable params: 7,960\n",
      "Non-trainable params: 0\n",
      "_________________________________________________________________\n"
     ]
    }
   ],
   "source": [
    "# build model using MRRelu layers\n",
    "model_mrrelu = tf.keras.Sequential()\n",
    "model_mrrelu.add(tf.keras.layers.Flatten(input_shape=mnist_input_shape))\n",
    "# the MRRelu should function just like a typical Dense layer with\n",
    "# restrictions to ensure MRR possible behavior\n",
    "model_mrrelu.add(lz.MMRelu(10, output_splitter=10))\n",
    "model_mrrelu.add(lz.MMRelu(10))\n",
    "model_mrrelu.summary()"
   ]
  },
  {
   "cell_type": "code",
   "execution_count": 4,
   "metadata": {
    "execution": {
     "iopub.execute_input": "2021-03-16T12:27:10.513722Z",
     "iopub.status.busy": "2021-03-16T12:27:10.513722Z",
     "iopub.status.idle": "2021-03-16T12:27:10.701894Z",
     "shell.execute_reply": "2021-03-16T12:27:10.701894Z",
     "shell.execute_reply.started": "2021-03-16T12:27:10.513722Z"
    }
   },
   "outputs": [],
   "source": [
    "# define loss function and compile the model\n",
    "loss_fn = tf.keras.losses.SparseCategoricalCrossentropy(from_logits=True)\n",
    "model_mrrelu.compile(optimizer=\"adam\", loss=loss_fn, metrics=[\"accuracy\"])"
   ]
  },
  {
   "cell_type": "code",
   "execution_count": 5,
   "metadata": {
    "execution": {
     "iopub.execute_input": "2021-03-16T12:27:10.702895Z",
     "iopub.status.busy": "2021-03-16T12:27:10.702895Z",
     "iopub.status.idle": "2021-03-16T12:28:27.133070Z",
     "shell.execute_reply": "2021-03-16T12:28:27.133070Z",
     "shell.execute_reply.started": "2021-03-16T12:27:10.702895Z"
    },
    "scrolled": true
   },
   "outputs": [
    {
     "name": "stdout",
     "output_type": "stream",
     "text": [
      "Epoch 1/25\n",
      "1688/1688 [==============================] - 3s 2ms/step - loss: 1.0000 - accuracy: 0.7050 - val_loss: 0.3654 - val_accuracy: 0.9020\n",
      "Epoch 2/25\n",
      "1688/1688 [==============================] - 3s 2ms/step - loss: 0.3966 - accuracy: 0.8873 - val_loss: 0.2910 - val_accuracy: 0.9187\n",
      "Epoch 3/25\n",
      "1688/1688 [==============================] - 3s 2ms/step - loss: 0.3538 - accuracy: 0.8986 - val_loss: 0.2799 - val_accuracy: 0.9193\n",
      "Epoch 4/25\n",
      "1688/1688 [==============================] - 3s 2ms/step - loss: 0.3341 - accuracy: 0.9045 - val_loss: 0.2642 - val_accuracy: 0.9237\n",
      "Epoch 5/25\n",
      "1688/1688 [==============================] - 3s 2ms/step - loss: 0.3262 - accuracy: 0.9072 - val_loss: 0.2574 - val_accuracy: 0.9252\n",
      "Epoch 6/25\n",
      "1688/1688 [==============================] - 3s 2ms/step - loss: 0.3187 - accuracy: 0.9082 - val_loss: 0.2579 - val_accuracy: 0.9295\n",
      "Epoch 7/25\n",
      "1688/1688 [==============================] - 3s 2ms/step - loss: 0.3155 - accuracy: 0.9094 - val_loss: 0.2740 - val_accuracy: 0.9178\n",
      "Epoch 8/25\n",
      "1688/1688 [==============================] - 3s 2ms/step - loss: 0.3124 - accuracy: 0.9097 - val_loss: 0.2554 - val_accuracy: 0.9293\n",
      "Epoch 9/25\n",
      "1688/1688 [==============================] - 3s 2ms/step - loss: 0.3093 - accuracy: 0.9117 - val_loss: 0.2558 - val_accuracy: 0.9272\n",
      "Epoch 10/25\n",
      "1688/1688 [==============================] - 3s 2ms/step - loss: 0.3076 - accuracy: 0.9118 - val_loss: 0.2487 - val_accuracy: 0.9317\n",
      "Epoch 11/25\n",
      "1688/1688 [==============================] - 3s 2ms/step - loss: 0.3053 - accuracy: 0.9130 - val_loss: 0.2542 - val_accuracy: 0.9240\n",
      "Epoch 12/25\n",
      "1688/1688 [==============================] - 3s 2ms/step - loss: 0.3061 - accuracy: 0.9124 - val_loss: 0.2543 - val_accuracy: 0.9320\n",
      "Epoch 13/25\n",
      "1688/1688 [==============================] - 3s 2ms/step - loss: 0.3026 - accuracy: 0.9136 - val_loss: 0.2452 - val_accuracy: 0.9317\n",
      "Epoch 14/25\n",
      "1688/1688 [==============================] - 3s 2ms/step - loss: 0.2998 - accuracy: 0.9143 - val_loss: 0.2537 - val_accuracy: 0.9282\n",
      "Epoch 15/25\n",
      "1688/1688 [==============================] - 3s 2ms/step - loss: 0.2991 - accuracy: 0.9139 - val_loss: 0.2588 - val_accuracy: 0.9270\n",
      "Epoch 16/25\n",
      "1688/1688 [==============================] - 3s 2ms/step - loss: 0.3000 - accuracy: 0.9150 - val_loss: 0.2542 - val_accuracy: 0.9275\n",
      "Epoch 17/25\n",
      "1688/1688 [==============================] - 3s 2ms/step - loss: 0.2983 - accuracy: 0.9149 - val_loss: 0.2450 - val_accuracy: 0.9305\n",
      "Epoch 18/25\n",
      "1688/1688 [==============================] - 3s 2ms/step - loss: 0.2976 - accuracy: 0.9171 - val_loss: 0.2624 - val_accuracy: 0.9225\n",
      "Epoch 19/25\n",
      "1688/1688 [==============================] - 3s 2ms/step - loss: 0.2971 - accuracy: 0.9159 - val_loss: 0.2686 - val_accuracy: 0.9242\n",
      "Epoch 20/25\n",
      "1688/1688 [==============================] - 3s 2ms/step - loss: 0.2965 - accuracy: 0.9164 - val_loss: 0.2643 - val_accuracy: 0.9272\n",
      "Epoch 21/25\n",
      "1688/1688 [==============================] - 3s 2ms/step - loss: 0.2972 - accuracy: 0.9153 - val_loss: 0.2896 - val_accuracy: 0.9148\n",
      "Epoch 22/25\n",
      "1688/1688 [==============================] - 3s 2ms/step - loss: 0.2936 - accuracy: 0.9166 - val_loss: 0.2696 - val_accuracy: 0.9205\n",
      "Epoch 23/25\n",
      "1688/1688 [==============================] - 3s 2ms/step - loss: 0.2937 - accuracy: 0.9165 - val_loss: 0.2648 - val_accuracy: 0.9265\n",
      "Epoch 24/25\n",
      "1688/1688 [==============================] - 3s 2ms/step - loss: 0.2943 - accuracy: 0.9172 - val_loss: 0.2478 - val_accuracy: 0.9337\n",
      "Epoch 25/25\n",
      "1688/1688 [==============================] - 3s 2ms/step - loss: 0.2945 - accuracy: 0.9174 - val_loss: 0.2535 - val_accuracy: 0.9282\n"
     ]
    }
   ],
   "source": [
    "history = model_mrrelu.fit(\n",
    "    x_train, y_train, validation_split=0.1, epochs=25, batch_size=32\n",
    ")"
   ]
  },
  {
   "cell_type": "code",
   "execution_count": 6,
   "metadata": {
    "execution": {
     "iopub.execute_input": "2021-03-16T12:28:27.137073Z",
     "iopub.status.busy": "2021-03-16T12:28:27.137073Z",
     "iopub.status.idle": "2021-03-16T12:28:27.528530Z",
     "shell.execute_reply": "2021-03-16T12:28:27.528530Z",
     "shell.execute_reply.started": "2021-03-16T12:28:27.137073Z"
    }
   },
   "outputs": [
    {
     "data": {
      "image/png": "[encoded data removed]",
      "text/plain": [
       "<Figure size 864x576 with 1 Axes>"
      ]
     },
     "metadata": {
      "needs_background": "light"
     },
     "output_type": "display_data"
    }
   ],
   "source": [
    "fig = plt.figure()\n",
    "fig.set_size_inches(12, 8)\n",
    "plt.plot(history.history[\"accuracy\"])\n",
    "plt.plot(history.history[\"val_accuracy\"])\n",
    "plt.title(\"model accuracy\")\n",
    "plt.ylabel(\"accuracy\")\n",
    "plt.xlabel(\"epoch\")\n",
    "plt.legend([\"train\", \"val\"], loc=\"upper left\")\n",
    "plt.show()"
   ]
  },
  {
   "cell_type": "code",
   "execution_count": 7,
   "metadata": {
    "execution": {
     "iopub.execute_input": "2021-03-16T12:28:27.530521Z",
     "iopub.status.busy": "2021-03-16T12:28:27.530521Z",
     "iopub.status.idle": "2021-03-16T12:28:28.930958Z",
     "shell.execute_reply": "2021-03-16T12:28:28.930958Z",
     "shell.execute_reply.started": "2021-03-16T12:28:27.530521Z"
    }
   },
   "outputs": [
    {
     "name": "stdout",
     "output_type": "stream",
     "text": [
      "Model: \"sequential_1\"\n",
      "_________________________________________________________________\n",
      "Layer (type)                 Output Shape              Param #   \n",
      "=================================================================\n",
      "flatten_1 (Flatten)          (None, 784)               0         \n",
      "_________________________________________________________________\n",
      "lorentzian (Lorentzian)      (None, 10)                7853      \n",
      "_________________________________________________________________\n",
      "lorentzian_1 (Lorentzian)    (None, 10)                113       \n",
      "=================================================================\n",
      "Total params: 7,966\n",
      "Trainable params: 7,960\n",
      "Non-trainable params: 6\n",
      "_________________________________________________________________\n"
     ]
    }
   ],
   "source": [
    "model_lorz = lz.create_lorentz_from_mrrelu(model_mrrelu)\n",
    "model_lorz.compile(optimizer=\"adam\", loss=loss_fn, metrics=[\"accuracy\"])\n",
    "model_lorz.summary()"
   ]
  },
  {
   "cell_type": "code",
   "execution_count": 8,
   "metadata": {
    "execution": {
     "iopub.execute_input": "2021-03-16T12:28:28.932960Z",
     "iopub.status.busy": "2021-03-16T12:28:28.931959Z",
     "iopub.status.idle": "2021-03-16T12:28:31.420226Z",
     "shell.execute_reply": "2021-03-16T12:28:31.420226Z",
     "shell.execute_reply.started": "2021-03-16T12:28:28.932960Z"
    }
   },
   "outputs": [
    {
     "name": "stdout",
     "output_type": "stream",
     "text": [
      "1875/1875 [==============================] - 2s 1ms/step - loss: 1.5950 - accuracy: 0.9212\n"
     ]
    },
    {
     "data": {
      "text/plain": [
       "[1.5949803590774536, 0.9212166666984558]"
      ]
     },
     "execution_count": 8,
     "metadata": {},
     "output_type": "execute_result"
    }
   ],
   "source": [
    "model_lorz.evaluate(x_train, y_train)"
   ]
  },
  {
   "cell_type": "code",
   "execution_count": 9,
   "metadata": {
    "execution": {
     "iopub.execute_input": "2021-03-16T12:28:31.422227Z",
     "iopub.status.busy": "2021-03-16T12:28:31.421217Z",
     "iopub.status.idle": "2021-03-16T12:29:03.486585Z",
     "shell.execute_reply": "2021-03-16T12:29:03.486585Z",
     "shell.execute_reply.started": "2021-03-16T12:28:31.422227Z"
    },
    "scrolled": true
   },
   "outputs": [
    {
     "name": "stdout",
     "output_type": "stream",
     "text": [
      "Epoch 1/10\n",
      "1688/1688 [==============================] - 3s 2ms/step - loss: 1.3712 - accuracy: 0.9212 - val_loss: 1.0125 - val_accuracy: 0.9337\n",
      "Epoch 2/10\n",
      "1688/1688 [==============================] - 3s 2ms/step - loss: 1.0496 - accuracy: 0.9223 - val_loss: 0.8801 - val_accuracy: 0.9282\n",
      "Epoch 3/10\n",
      "1688/1688 [==============================] - 3s 2ms/step - loss: 0.8535 - accuracy: 0.9219 - val_loss: 0.7381 - val_accuracy: 0.9277\n",
      "Epoch 4/10\n",
      "1688/1688 [==============================] - 3s 2ms/step - loss: 0.7226 - accuracy: 0.9237 - val_loss: 0.6076 - val_accuracy: 0.9317\n",
      "Epoch 5/10\n",
      "1688/1688 [==============================] - 3s 2ms/step - loss: 0.6188 - accuracy: 0.9231 - val_loss: 0.5244 - val_accuracy: 0.9338\n",
      "Epoch 6/10\n",
      "1688/1688 [==============================] - 3s 2ms/step - loss: 0.5390 - accuracy: 0.9246 - val_loss: 0.4873 - val_accuracy: 0.9287\n",
      "Epoch 7/10\n",
      "1688/1688 [==============================] - 3s 2ms/step - loss: 0.4772 - accuracy: 0.9233 - val_loss: 0.4155 - val_accuracy: 0.9328\n",
      "Epoch 8/10\n",
      "1688/1688 [==============================] - 3s 2ms/step - loss: 0.4307 - accuracy: 0.9239 - val_loss: 0.3772 - val_accuracy: 0.9322\n",
      "Epoch 9/10\n",
      "1688/1688 [==============================] - 3s 2ms/step - loss: 0.3930 - accuracy: 0.9247 - val_loss: 0.3424 - val_accuracy: 0.9333\n",
      "Epoch 10/10\n",
      "1688/1688 [==============================] - 3s 2ms/step - loss: 0.3638 - accuracy: 0.9241 - val_loss: 0.3229 - val_accuracy: 0.9342\n"
     ]
    }
   ],
   "source": [
    "history = model_lorz.fit(\n",
    "    x_train, y_train, validation_split=0.1, epochs=10, batch_size=32\n",
    ")"
   ]
  },
  {
   "cell_type": "code",
   "execution_count": 10,
   "metadata": {
    "execution": {
     "iopub.execute_input": "2021-03-16T12:29:03.488585Z",
     "iopub.status.busy": "2021-03-16T12:29:03.487585Z",
     "iopub.status.idle": "2021-03-16T12:29:03.883131Z",
     "shell.execute_reply": "2021-03-16T12:29:03.883131Z",
     "shell.execute_reply.started": "2021-03-16T12:29:03.488585Z"
    }
   },
   "outputs": [
    {
     "data": {
      "image/png": "[encoded data removed]",
      "text/plain": [
       "<Figure size 864x576 with 1 Axes>"
      ]
     },
     "metadata": {
      "needs_background": "light"
     },
     "output_type": "display_data"
    }
   ],
   "source": [
    "fig = plt.figure()\n",
    "fig.set_size_inches(12, 8)\n",
    "plt.plot(history.history[\"accuracy\"])\n",
    "plt.plot(history.history[\"val_accuracy\"])\n",
    "plt.title(\"model accuracy\")\n",
    "plt.ylabel(\"accuracy\")\n",
    "plt.xlabel(\"epoch\")\n",
    "plt.legend([\"train\", \"val\"], loc=\"upper left\")\n",
    "plt.show()"
   ]
  },
  {
   "cell_type": "code",
   "execution_count": 11,
   "metadata": {
    "execution": {
     "iopub.execute_input": "2021-03-16T12:29:03.884142Z",
     "iopub.status.busy": "2021-03-16T12:29:03.884142Z",
     "iopub.status.idle": "2021-03-16T12:29:04.686237Z",
     "shell.execute_reply": "2021-03-16T12:29:04.686237Z",
     "shell.execute_reply.started": "2021-03-16T12:29:03.884142Z"
    }
   },
   "outputs": [
    {
     "name": "stdout",
     "output_type": "stream",
     "text": [
      "313/313 [==============================] - 1s 2ms/step - loss: 0.3812 - accuracy: 0.9208\n"
     ]
    },
    {
     "data": {
      "text/plain": [
       "[0.38123220205307007, 0.920799970626831]"
      ]
     },
     "execution_count": 11,
     "metadata": {},
     "output_type": "execute_result"
    }
   ],
   "source": [
    "model_lorz.evaluate(x_test, y_test)"
   ]
  },
  {
   "cell_type": "markdown",
   "metadata": {},
   "source": [
    "## Determine the necessary ring specifications and write them to file\n",
    "\n",
    "In this example we want the rings to be centered around 1550nm with a gamma of 60pm. One could also supply a sensitivity for shifting the ring via a microheater. The default sensitivity is 1nm per 5mW supplied to the microheater.\n",
    "\n",
    "The printed format is the following:\\\n",
    "$(n_L , n_{L+1} )$, center_wavelength, new_center_wavelength, gamma, delta_wavelength(shift), heating_power"
   ]
  },
  {
   "cell_type": "code",
   "execution_count": 12,
   "metadata": {
    "execution": {
     "iopub.execute_input": "2021-03-16T12:29:04.688239Z",
     "iopub.status.busy": "2021-03-16T12:29:04.687238Z",
     "iopub.status.idle": "2021-03-16T12:29:04.971506Z",
     "shell.execute_reply": "2021-03-16T12:29:04.971506Z",
     "shell.execute_reply.started": "2021-03-16T12:29:04.688239Z"
    }
   },
   "outputs": [],
   "source": [
    "lz.get_ring_specs(model_lorz, 1550, 60e-12, filename=\"Demo_MRR-NN.txt\")"
   ]
  },
  {
   "cell_type": "code",
   "execution_count": null,
   "metadata": {},
   "outputs": [],
   "source": []
  }
 ],
 "metadata": {
  "kernelspec": {
   "display_name": "Python 3",
   "language": "python",
   "name": "python3"
  },
  "language_info": {
   "codemirror_mode": {
    "name": "ipython",
    "version": 3
   },
   "file_extension": ".py",
   "mimetype": "text/x-python",
   "name": "python",
   "nbconvert_exporter": "python",
   "pygments_lexer": "ipython3",
   "version": "3.8.3"
  }
 },
 "nbformat": 4,
 "nbformat_minor": 4
}
